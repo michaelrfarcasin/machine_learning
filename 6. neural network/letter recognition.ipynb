{
 "cells": [
  {
   "cell_type": "code",
   "execution_count": null,
   "id": "56105f8c-4796-4dbe-bedc-2587e9e8a2c7",
   "metadata": {},
   "outputs": [],
   "source": [
    "import numpy as np\n",
    "import tensorflow as tf\n",
    "from tensorflow.keras.models import Sequential\n",
    "from tensorflow.keras.layers import Dense"
   ]
  },
  {
   "cell_type": "code",
   "execution_count": null,
   "id": "72ce282c-bd56-4267-af60-9e8c5a39a84f",
   "metadata": {},
   "outputs": [],
   "source": [
    "# https://archive.ics.uci.edu/dataset/59/letter+recognition\n",
    "# first used in \"Letter Recognition Using Holland-Style Adaptive Classifiers\"\n",
    "from ucimlrepo import fetch_ucirepo \n",
    "\n",
    "# fetch dataset \n",
    "letter_recognition = fetch_ucirepo(id=59) \n",
    "  \n",
    "# data (as pandas dataframes) \n",
    "X_data = letter_recognition.data.features \n",
    "y_data = letter_recognition.data.targets"
   ]
  },
  {
   "cell_type": "code",
   "execution_count": null,
   "id": "143b618c-1094-47e1-9f4d-cad14a7cb065",
   "metadata": {},
   "outputs": [],
   "source": [
    "X = X_data.to_numpy()\n",
    "y = y_data.to_numpy()"
   ]
  },
  {
   "cell_type": "code",
   "execution_count": null,
   "id": "91b9f668-5dc3-472d-a27c-c040cc81c79c",
   "metadata": {},
   "outputs": [],
   "source": [
    "def map_letter_array_to_numbers(letters):\n",
    "    letter_to_number = {chr(i): i - ord('A') + 1 for i in range(ord('A'), ord('Z') + 1)}\n",
    "    return np.array([letter_to_number.get(letter, 0) for letter in letters])\n",
    "\n",
    "def map_number_array_to_letters(numbers):\n",
    "    number_to_letter = {int(c): chr(c + ord('A') - 1) for c in range(26)}\n",
    "    return np.array([number_to_letter.get(number, 'A') for number in numbers])    "
   ]
  },
  {
   "cell_type": "code",
   "execution_count": null,
   "id": "fa57779f-4ef9-46dc-8224-5c456d56359b",
   "metadata": {},
   "outputs": [],
   "source": [
    "training_number = 16000\n",
    "x_train = X[:training_number]\n",
    "x_test = X[training_number:]\n",
    "y_train_letters = y[:training_number].flatten()\n",
    "y_test_letters = y[training_number:].flatten()\n",
    "y_train = map_letter_array_to_numbers(y_train_letters)\n",
    "y_test = map_letter_array_to_numbers(y_test_letters)"
   ]
  },
  {
   "cell_type": "code",
   "execution_count": null,
   "id": "ff75565f-10ad-4e33-8cdc-544fc40ca5ac",
   "metadata": {},
   "outputs": [],
   "source": [
    "print(x_train.shape)\n",
    "print(x_train[0])\n",
    "print(y_train_letters[0])\n",
    "print(y_train[0])"
   ]
  },
  {
   "cell_type": "code",
   "execution_count": null,
   "id": "4fe2d6e4-b0a1-46c9-842d-26854867fbbf",
   "metadata": {},
   "outputs": [],
   "source": [
    "model = Sequential(\n",
    "    [\n",
    "        tf.keras.Input(shape=(16,)),\n",
    "        Dense(100, activation = 'relu', name = 'L1'),\n",
    "        Dense(60, activation = 'relu', name = 'L2'),\n",
    "        Dense(27, activation = 'linear', name = 'L3')\n",
    "    ], name = \"letter_recognition_model\"\n",
    ")"
   ]
  },
  {
   "cell_type": "code",
   "execution_count": null,
   "id": "56a96cb5-ea83-48f0-84c0-dfc51cf8e65d",
   "metadata": {},
   "outputs": [],
   "source": [
    "model.summary()"
   ]
  },
  {
   "cell_type": "code",
   "execution_count": null,
   "id": "55631036-4aa9-4b26-8db8-98d5bb67d8c8",
   "metadata": {
    "editable": true,
    "slideshow": {
     "slide_type": ""
    },
    "tags": []
   },
   "outputs": [],
   "source": [
    "model.compile(\n",
    "    loss=tf.keras.losses.SparseCategoricalCrossentropy(from_logits=True),\n",
    "    optimizer=tf.keras.optimizers.Adam(learning_rate=0.001),\n",
    "    metrics=[tf.keras.metrics.SparseCategoricalAccuracy()],\n",
    ")"
   ]
  },
  {
   "cell_type": "code",
   "execution_count": null,
   "id": "ea5b07bd-897a-4690-8cc5-76d7831da7d8",
   "metadata": {},
   "outputs": [],
   "source": [
    "history = model.fit(\n",
    "    x_train,\n",
    "    y_train,\n",
    "    epochs=40,\n",
    "    validation_data=(x_test, y_test),\n",
    ")"
   ]
  },
  {
   "cell_type": "code",
   "execution_count": null,
   "id": "8c6003b3-d0d5-4fb9-9cde-20fe86d2d1f9",
   "metadata": {},
   "outputs": [],
   "source": [
    "import matplotlib.pyplot as plt\n",
    "\n",
    "fig,ax = plt.subplots(1,1, figsize = (4,3))\n",
    "fig.canvas.toolbar_visible = False\n",
    "fig.canvas.header_visible = False\n",
    "fig.canvas.footer_visible = False\n",
    "ax.plot(history.history['loss'], label='loss')\n",
    "ax.set_ylim([0, 2])\n",
    "ax.set_xlabel('Epoch')\n",
    "ax.set_ylabel('loss (cost)')\n",
    "ax.legend()\n",
    "ax.grid(True)\n",
    "plt.show()"
   ]
  },
  {
   "cell_type": "code",
   "execution_count": null,
   "id": "2df766ee-9c5a-4c55-8623-c76a599f8abe",
   "metadata": {},
   "outputs": [],
   "source": [
    "loss, acc = model.evaluate(x_test, y_test)"
   ]
  },
  {
   "cell_type": "code",
   "execution_count": null,
   "id": "a32bacc6-7c73-46d6-a2d7-52a3a877df72",
   "metadata": {},
   "outputs": [],
   "source": [
    "model.save('letter_recognition_model.h5')"
   ]
  },
  {
   "cell_type": "code",
   "execution_count": null,
   "id": "042e8216-f571-4f0b-9c26-a08d2e110c7c",
   "metadata": {
    "editable": true,
    "slideshow": {
     "slide_type": ""
    },
    "tags": []
   },
   "outputs": [],
   "source": [
    "prediction = model.predict(x_test[:1])\n",
    "yhat = np.argmax(prediction)\n",
    "print(yhat)\n",
    "print(y_test[0])"
   ]
  },
  {
   "cell_type": "code",
   "execution_count": null,
   "id": "47c698ad-75f1-4ed2-ae0f-0cf5774faa24",
   "metadata": {},
   "outputs": [],
   "source": []
  }
 ],
 "metadata": {
  "kernelspec": {
   "display_name": "Python 3 (ipykernel)",
   "language": "python",
   "name": "python3"
  },
  "language_info": {
   "codemirror_mode": {
    "name": "ipython",
    "version": 3
   },
   "file_extension": ".py",
   "mimetype": "text/x-python",
   "name": "python",
   "nbconvert_exporter": "python",
   "pygments_lexer": "ipython3",
   "version": "3.12.10"
  }
 },
 "nbformat": 4,
 "nbformat_minor": 5
}
