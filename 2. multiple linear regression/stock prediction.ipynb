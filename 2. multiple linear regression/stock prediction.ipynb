{
 "cells": [
  {
   "cell_type": "code",
   "execution_count": null,
   "id": "56105f8c-4796-4dbe-bedc-2587e9e8a2c7",
   "metadata": {},
   "outputs": [],
   "source": [
    "import numpy as np\n",
    "import matplotlib.pyplot as plt\n",
    "import copy, math"
   ]
  },
  {
   "cell_type": "code",
   "execution_count": null,
   "id": "859d938f-4b05-45f4-8ebc-86ae06c23ca1",
   "metadata": {},
   "outputs": [],
   "source": [
    "def read_csv_to_array(filename):\n",
    "    data = np.genfromtxt(filename, delimiter=',', dtype=float)\n",
    "    return data"
   ]
  },
  {
   "cell_type": "code",
   "execution_count": null,
   "id": "55631036-4aa9-4b26-8db8-98d5bb67d8c8",
   "metadata": {
    "editable": true,
    "slideshow": {
     "slide_type": ""
    },
    "tags": []
   },
   "outputs": [],
   "source": [
    "def compute_gradient(X, y, w, b):\n",
    "    m,n = X.shape           #(number of examples, number of features)\n",
    "    dj_dw = np.zeros((n,))\n",
    "    dj_db = 0\n",
    "    for i in range(m):\n",
    "        f_wb = np.dot(X[i], w) + b\n",
    "        err = f_wb - y[i]\n",
    "        for j in range(n):\n",
    "            dj_dw[j] += err * X[i, j]\n",
    "        dj_db += err\n",
    "    dj_dw /= m\n",
    "    dj_db /= m\n",
    "    return dj_dw, dj_db"
   ]
  },
  {
   "cell_type": "code",
   "execution_count": null,
   "id": "4fe2d6e4-b0a1-46c9-842d-26854867fbbf",
   "metadata": {},
   "outputs": [],
   "source": [
    "def compute_cost(X, y, w, b):\n",
    "    # mean squared error\n",
    "    cost = 0\n",
    "    m = y.shape[0]\n",
    "    for i in range(m):\n",
    "        f_wb_i = np.dot(X[i], w) + b\n",
    "        cost += (f_wb_i - y[i])**2\n",
    "    cost /= 2 * m;\n",
    "    return cost"
   ]
  },
  {
   "cell_type": "code",
   "execution_count": null,
   "id": "cd544d62-d0b2-4b96-9d53-30fcab96f685",
   "metadata": {
    "editable": true,
    "slideshow": {
     "slide_type": ""
    },
    "tags": []
   },
   "outputs": [],
   "source": [
    "def gradient_descent(X, y, w_in, b_in=0, alpha=0.01, num_iterations=10000):\n",
    "    cost_history = []\n",
    "    w = copy.deepcopy(w_in)\n",
    "    b = b_in\n",
    "    for i in range(num_iterations):\n",
    "        dj_dw, dj_db = compute_gradient(X, y, w, b)\n",
    "        b = b - alpha * dj_db\n",
    "        w = w - alpha * dj_dw\n",
    "        # save cost at each iteration\n",
    "        if i < 100000: # prevent resource exhaustion\n",
    "            cost_history.append(compute_cost(X, y, w, b))\n",
    "        # print cost at 10 intervals, or each iteration if < 10\n",
    "        if i % math.ceil(num_iterations / 10) == 0:\n",
    "            print(f\"Iteration {i:4d}: Cost {cost_history[-1]:.2e}\",\n",
    "                  f\"w: {w}, b: {b:.3e}\")\n",
    "        if math.isnan(cost_history[-1]):\n",
    "            raise ValueError(f\"Cost is not a number at iteration {i}.\")\n",
    "    return w, b, cost_history"
   ]
  },
  {
   "cell_type": "code",
   "execution_count": null,
   "id": "5f54e0ae-3a03-4278-b618-e51d0926952b",
   "metadata": {},
   "outputs": [],
   "source": [
    "# stock data from https://www.marketwatch.com/\n",
    "x_train = read_csv_to_array('x_train.csv')\n",
    "y_train = read_csv_to_array('y_train.csv')"
   ]
  },
  {
   "cell_type": "code",
   "execution_count": null,
   "id": "d1e32396-490b-4997-ba96-cd9c3ce57be0",
   "metadata": {},
   "outputs": [],
   "source": [
    "np.set_printoptions(precision=3, suppress=True)"
   ]
  },
  {
   "cell_type": "code",
   "execution_count": null,
   "id": "d44e92c8-63d0-4367-a357-ab90ea00b167",
   "metadata": {},
   "outputs": [],
   "source": [
    "num_features = x_train.shape[1]\n",
    "w = np.zeros(num_features)\n",
    "w, b, J_history = gradient_descent(x_train, y_train, w, 0, 0.0000000000000001, 100)"
   ]
  },
  {
   "cell_type": "code",
   "execution_count": null,
   "id": "a32bacc6-7c73-46d6-a2d7-52a3a877df72",
   "metadata": {},
   "outputs": [],
   "source": [
    "def saveModel(w, b):\n",
    "    filename = 'model.csv'\n",
    "    with open(filename, 'wb') as f:\n",
    "        np.savetxt(f, w, delimiter=',')\n",
    "    with open(filename, 'ab') as f:\n",
    "        np.savetxt(f, [b], delimiter=',')"
   ]
  },
  {
   "cell_type": "code",
   "execution_count": null,
   "id": "020673ea-44dd-43bf-9965-da54f73dc60d",
   "metadata": {},
   "outputs": [],
   "source": [
    "saveModel(w, b)"
   ]
  },
  {
   "cell_type": "code",
   "execution_count": null,
   "id": "18ed8abd-3d0d-417e-99a4-f1bd23bc05d4",
   "metadata": {
    "editable": true,
    "slideshow": {
     "slide_type": ""
    },
    "tags": []
   },
   "outputs": [],
   "source": [
    "x_string = ''\n",
    "wx_string = ''\n",
    "for i in range(w.shape[0]):\n",
    "    if i > 0:\n",
    "        x_string += ', '\n",
    "        wx_string += ' + '\n",
    "    x_string += f'x_{i}'\n",
    "    wx_string += f'{w[i]:.1e} x_{i}'\n",
    "print(f'f_wb({x_string}) = {wx_string} + {b:.1e}')"
   ]
  },
  {
   "cell_type": "code",
   "execution_count": null,
   "id": "a0d7a0c5-74dc-4b15-9cda-d0af834ce407",
   "metadata": {},
   "outputs": [],
   "source": [
    "fx = np.zeros(x_train.shape[0])\n",
    "for i in range(x_train.shape[0]):\n",
    "    fx[i] = np.dot(x_train[i], w) + b"
   ]
  },
  {
   "cell_type": "code",
   "execution_count": null,
   "id": "38c938f0-c539-4ec2-a27a-287f59dd2581",
   "metadata": {},
   "outputs": [],
   "source": [
    "plt.scatter(x_train[:, 0], y_train)\n",
    "plt.plot(fx, color='r')\n",
    "plt.show()"
   ]
  },
  {
   "cell_type": "code",
   "execution_count": null,
   "id": "eff870f0-8905-484d-a89e-a36d1a0d74a0",
   "metadata": {},
   "outputs": [],
   "source": [
    "x_predict = read_csv_to_array('x_predict.csv')\n",
    "y_predict = read_csv_to_array('y_predict.csv')"
   ]
  },
  {
   "cell_type": "code",
   "execution_count": null,
   "id": "48e99ba9-2324-48ce-abbc-d91ae501ccb6",
   "metadata": {},
   "outputs": [],
   "source": [
    "predicted = np.zeros(x_predict.shape[0])\n",
    "for i in range(x_predict.shape[0]):\n",
    "    predicted[i] = np.dot(x_predict[i], w) + b"
   ]
  },
  {
   "cell_type": "code",
   "execution_count": null,
   "id": "2379771e-5735-4eed-8df9-9c16d225eac2",
   "metadata": {},
   "outputs": [],
   "source": [
    "for i in range(x_predict.shape[0]):\n",
    "    print(f\"{int(x_predict[i, 0])}: |{predicted[i]:.2f} - {y_predict[i]}| = {abs(predicted[i] - y_predict[i]):.2f}\")\n",
    "cost_predict = compute_cost(x_predict, y_predict, w, b)\n",
    "print(f\"Cost of future predictions: {cost_predict:.2f}\")"
   ]
  },
  {
   "cell_type": "code",
   "execution_count": null,
   "id": "affe7a7a-7e64-46fa-b3e5-8fcddd05e670",
   "metadata": {},
   "outputs": [],
   "source": [
    "plt.scatter(x_train[:, 0], y_train)\n",
    "plt.plot(fx, color='r')\n",
    "plt.scatter(x_predict[:, 0], y_predict)\n",
    "plt.plot(x_predict[:, 0], predicted, color='r')\n",
    "plt.show()"
   ]
  },
  {
   "cell_type": "code",
   "execution_count": null,
   "id": "042e8216-f571-4f0b-9c26-a08d2e110c7c",
   "metadata": {
    "editable": true,
    "slideshow": {
     "slide_type": ""
    },
    "tags": []
   },
   "outputs": [],
   "source": []
  }
 ],
 "metadata": {
  "kernelspec": {
   "display_name": "Python 3 (ipykernel)",
   "language": "python",
   "name": "python3"
  },
  "language_info": {
   "codemirror_mode": {
    "name": "ipython",
    "version": 3
   },
   "file_extension": ".py",
   "mimetype": "text/x-python",
   "name": "python",
   "nbconvert_exporter": "python",
   "pygments_lexer": "ipython3",
   "version": "3.14.0"
  }
 },
 "nbformat": 4,
 "nbformat_minor": 5
}
