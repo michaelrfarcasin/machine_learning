{
 "cells": [
  {
   "cell_type": "code",
   "execution_count": null,
   "id": "56105f8c-4796-4dbe-bedc-2587e9e8a2c7",
   "metadata": {},
   "outputs": [],
   "source": [
    "import pandas as pd\n",
    "from sklearn.model_selection import train_test_split\n",
    "from sklearn.preprocessing import StandardScaler\n",
    "from sklearn.ensemble import RandomForestClassifier\n",
    "from sklearn.metrics import accuracy_score\n",
    "import matplotlib.pyplot as plt\n",
    "from mpl_toolkits.mplot3d import Axes3D\n",
    "from matplotlib.lines import Line2D\n",
    "import numpy as np"
   ]
  },
  {
   "cell_type": "code",
   "execution_count": null,
   "id": "859d938f-4b05-45f4-8ebc-86ae06c23ca1",
   "metadata": {},
   "outputs": [],
   "source": [
    "def dataframe_to_xy(dataframe):\n",
    "    data = dataframe.to_numpy()\n",
    "    y = data[:, 0]\n",
    "    X = data[:, 1:]\n",
    "    return X, y"
   ]
  },
  {
   "cell_type": "code",
   "execution_count": null,
   "id": "72ce282c-bd56-4267-af60-9e8c5a39a84f",
   "metadata": {},
   "outputs": [],
   "source": [
    "xy_dataframe = pd.read_stata('binary.dta') # https://stats.oarc.ucla.edu/stata/dae/logistic-regression/"
   ]
  },
  {
   "cell_type": "code",
   "execution_count": null,
   "id": "143b618c-1094-47e1-9f4d-cad14a7cb065",
   "metadata": {},
   "outputs": [],
   "source": [
    "xy_dataframe.info()"
   ]
  },
  {
   "cell_type": "code",
   "execution_count": null,
   "id": "5f54e0ae-3a03-4278-b618-e51d0926952b",
   "metadata": {},
   "outputs": [],
   "source": [
    "X, y = dataframe_to_xy(xy_dataframe)"
   ]
  },
  {
   "cell_type": "code",
   "execution_count": null,
   "id": "78f72e6e-26c3-4889-a704-67a67431b45f",
   "metadata": {},
   "outputs": [],
   "source": [
    "# Compute a baseline for accuracy\n",
    "unique, counts = np.unique(y, return_counts=True)\n",
    "print(dict(zip(unique, counts)))\n",
    "baseline_accuracy = counts.max() / counts.sum()\n",
    "print(\"Majority baseline:\", baseline_accuracy)"
   ]
  },
  {
   "cell_type": "code",
   "execution_count": null,
   "id": "9ba767a7-e308-464d-9772-7e08d3d2adc8",
   "metadata": {},
   "outputs": [],
   "source": [
    "# Get 60% of the dataset as the training set. Put the remaining 40% in temporary variables: x_ and y_.\n",
    "x_train, x_, y_train, y_ = train_test_split(X, y, test_size=0.40, random_state=1)\n",
    "\n",
    "# Split the 40% subset above into two: one half for cross validation and the other for the test set\n",
    "x_cv, x_test, y_cv, y_test = train_test_split(x_, y_, test_size=0.50, random_state=1)\n",
    "\n",
    "# Delete temporary variables\n",
    "del x_, y_"
   ]
  },
  {
   "cell_type": "code",
   "execution_count": null,
   "id": "26d9a030-f9bc-42b1-9f4b-1bbc55c6d5d9",
   "metadata": {},
   "outputs": [],
   "source": [
    "def draw_scatter_plot_3d(x1, x2, x3, y, x1_label='X axis', x2_label='Y axis', x3_label='Z axis', y_labels=['0', '1']):\n",
    "    fig = plt.figure(figsize=(8, 6))\n",
    "    ax = fig.add_subplot(111, projection='3d')\n",
    "    colors = ['red' if label == 0 else 'blue' for label in y]\n",
    "    ax.scatter(x1, x2, x3, c=colors, s=50, alpha=0.8)\n",
    "    ax.set_xlabel(x1_label)\n",
    "    ax.set_ylabel(x2_label)\n",
    "    ax.set_zlabel(x3_label)\n",
    "    legend_elements = [\n",
    "        Line2D([0], [0], marker='o', color='w', label=y_labels[0], markerfacecolor='red', markersize=8),\n",
    "        Line2D([0], [0], marker='o', color='w', label=y_labels[1], markerfacecolor='blue', markersize=8)\n",
    "    ]\n",
    "    ax.legend(handles=legend_elements, loc='best')\n",
    "    plt.show()"
   ]
  },
  {
   "cell_type": "code",
   "execution_count": null,
   "id": "253d8e9d-b5fd-47c4-89ab-46ecf038eb2c",
   "metadata": {},
   "outputs": [],
   "source": [
    "draw_scatter_plot_3d(X[:, 0], X[:, 1], X[:, 2], y, 'GRE', 'GPA', 'Rank', ['Not Admitted', 'Admitted'])"
   ]
  },
  {
   "cell_type": "code",
   "execution_count": null,
   "id": "74d0c921-affc-4a4a-bbf3-a6d2aff67e44",
   "metadata": {},
   "outputs": [],
   "source": [
    "min_samples_split_list = [2, 10, 20, 30, 50, 100, 200]\n",
    "max_depth_list = [2, 4, 6, 8, 16, 32, None]\n",
    "num_trees_list = [1, 2, 5, 10, 50, 100, 500]"
   ]
  },
  {
   "cell_type": "code",
   "execution_count": null,
   "id": "720f7431-2ef9-4308-acd7-d1104c9233d0",
   "metadata": {},
   "outputs": [],
   "source": [
    "accuracy_list_train = []\n",
    "accuracy_list_cv = []\n",
    "for min_samples_split in min_samples_split_list:\n",
    "    model = RandomForestClassifier(min_samples_split = min_samples_split).fit(x_train, y_train) \n",
    "    predictions_train = model.predict(x_train)\n",
    "    predictions_cv = model.predict(x_cv)\n",
    "    accuracy_train = accuracy_score(predictions_train, y_train)\n",
    "    accuracy_cv = accuracy_score(predictions_cv, y_cv)\n",
    "    accuracy_list_train.append(accuracy_train)\n",
    "    accuracy_list_cv.append(accuracy_cv)"
   ]
  },
  {
   "cell_type": "code",
   "execution_count": null,
   "id": "129fe2a5-6ad0-43da-8295-5ba5559122f4",
   "metadata": {},
   "outputs": [],
   "source": [
    "plt.title('Train x Validation metrics')\n",
    "plt.xlabel('min_samples_split')\n",
    "plt.ylabel('accuracy')\n",
    "plt.xticks(ticks = range(len(min_samples_split_list)), labels=min_samples_split_list) \n",
    "plt.plot(accuracy_list_train)\n",
    "plt.plot(accuracy_list_cv)\n",
    "plt.legend(['Train', 'Validation'])"
   ]
  },
  {
   "cell_type": "code",
   "execution_count": null,
   "id": "aebf59e0-6e3c-42ac-9d30-f5f630869e9c",
   "metadata": {},
   "outputs": [],
   "source": [
    "# 30 min_samples_split looks like a good number for validation accuracy without overfitting or sacrificing training accuracy"
   ]
  },
  {
   "cell_type": "code",
   "execution_count": null,
   "id": "347531b2-244a-474d-bc87-079430bc132f",
   "metadata": {},
   "outputs": [],
   "source": [
    "accuracy_list_train = []\n",
    "accuracy_list_cv = []\n",
    "for max_depth in max_depth_list:\n",
    "    model = RandomForestClassifier(max_depth = max_depth).fit(x_train, y_train) \n",
    "    predictions_train = model.predict(x_train)\n",
    "    predictions_cv = model.predict(x_cv)\n",
    "    accuracy_train = accuracy_score(predictions_train, y_train)\n",
    "    accuracy_cv = accuracy_score(predictions_cv, y_cv)\n",
    "    accuracy_list_train.append(accuracy_train)\n",
    "    accuracy_list_cv.append(accuracy_cv)"
   ]
  },
  {
   "cell_type": "code",
   "execution_count": null,
   "id": "243fd10a-11cc-4c40-a94f-25a12479db95",
   "metadata": {},
   "outputs": [],
   "source": [
    "plt.title('Train x Validation metrics')\n",
    "plt.xlabel('max_depth')\n",
    "plt.ylabel('accuracy')\n",
    "plt.xticks(ticks = range(len(max_depth_list)), labels=max_depth_list)\n",
    "plt.plot(accuracy_list_train)\n",
    "plt.plot(accuracy_list_cv)\n",
    "plt.legend(['Train', 'Validation'])"
   ]
  },
  {
   "cell_type": "code",
   "execution_count": null,
   "id": "575b3a6e-fba8-4880-a92a-d28beb0f519e",
   "metadata": {},
   "outputs": [],
   "source": [
    "# max_depth 4 has the best validation accuracy without overfitting"
   ]
  },
  {
   "cell_type": "code",
   "execution_count": null,
   "id": "fd5f767b-93a7-4b0a-956f-ec62bfe61fd2",
   "metadata": {},
   "outputs": [],
   "source": [
    "accuracy_list_train = []\n",
    "accuracy_list_cv = []\n",
    "for num_trees in num_trees_list:\n",
    "    model = RandomForestClassifier(n_estimators = num_trees).fit(x_train, y_train) \n",
    "    predictions_train = model.predict(x_train)\n",
    "    predictions_cv = model.predict(x_cv)\n",
    "    accuracy_train = accuracy_score(predictions_train, y_train)\n",
    "    accuracy_cv = accuracy_score(predictions_cv, y_cv)\n",
    "    accuracy_list_train.append(accuracy_train)\n",
    "    accuracy_list_cv.append(accuracy_cv)"
   ]
  },
  {
   "cell_type": "code",
   "execution_count": null,
   "id": "4c7103c5-99c3-40e2-a5b5-b497e12e6d17",
   "metadata": {},
   "outputs": [],
   "source": [
    "plt.title('Train x Validation metrics')\n",
    "plt.xlabel('number of trees')\n",
    "plt.ylabel('accuracy')\n",
    "plt.xticks(ticks = range(len(num_trees_list)), labels=num_trees_list)\n",
    "plt.plot(accuracy_list_train)\n",
    "plt.plot(accuracy_list_cv)\n",
    "plt.legend(['Train', 'Validation'])"
   ]
  },
  {
   "cell_type": "code",
   "execution_count": null,
   "id": "68eb6166-e7f8-4c04-b2c3-0ef362819365",
   "metadata": {},
   "outputs": [],
   "source": [
    "# it appears any number of trees results in overfitting, so I may as well use the default number 100, which also has the highest validation accuracy"
   ]
  },
  {
   "cell_type": "code",
   "execution_count": null,
   "id": "5d5de955-f67c-425a-acd0-f3b88d7d8df5",
   "metadata": {},
   "outputs": [],
   "source": [
    "random_forest_model = RandomForestClassifier(n_estimators = 100, max_depth = 4, min_samples_split = 30).fit(x_train, y_train)"
   ]
  },
  {
   "cell_type": "code",
   "execution_count": null,
   "id": "f99147f8-899a-42fc-80f6-30db402ec4f5",
   "metadata": {},
   "outputs": [],
   "source": [
    "print(f\"Metrics train:\\n\\tAccuracy score: {accuracy_score(random_forest_model.predict(x_train), y_train):.4f}\")\n",
    "print(f\"Metrics cv:\\n\\tAccuracy score: {accuracy_score(random_forest_model.predict(x_cv), y_cv):.4f}\")\n",
    "fx = random_forest_model.predict(x_test)\n",
    "print(f\"Metrics test:\\n\\tAccuracy score: {accuracy_score(fx, y_test):.4f}\")"
   ]
  },
  {
   "cell_type": "code",
   "execution_count": null,
   "id": "6769e1a7-a7e2-4cb2-be69-68c2e023fe2e",
   "metadata": {},
   "outputs": [],
   "source": [
    "# in the end, we couldn't get better accuracy than the baseline\n",
    "# surprisingly, even though the data is tabular, the neural network from project 8 performed better"
   ]
  },
  {
   "cell_type": "code",
   "execution_count": null,
   "id": "38c938f0-c539-4ec2-a27a-287f59dd2581",
   "metadata": {},
   "outputs": [],
   "source": [
    "def draw_scatter_plot_3d_with_fx(x1, x2, x3, y, fx, x1_label='X axis', x2_label='Y axis', x3_label='Z axis'):\n",
    "    fig = plt.figure(figsize=(8, 6))\n",
    "    ax = fig.add_subplot(111, projection='3d')\n",
    "    colors_actual = ['red' if label == 0 else 'blue' for label in y]\n",
    "    ax.scatter(x1, x2, x3, c=colors_actual, s=50, alpha=0.4, label='Actual')\n",
    "    colors_predicted = ['pink' if label == 0 else 'lightblue' for label in fx]\n",
    "    ax.scatter(x1, x2, x3, c=colors_predicted, s=20, alpha=0.8, label='Predicted', marker='^')\n",
    "    ax.set_xlabel(x1_label)\n",
    "    ax.set_ylabel(x2_label)\n",
    "    ax.set_zlabel(x3_label)\n",
    "    legend_elements = [\n",
    "        Line2D([0], [0], marker='o', color='w', label='Actual 0', markerfacecolor='red', markersize=8),\n",
    "        Line2D([0], [0], marker='o', color='w', label='Actual 1', markerfacecolor='blue', markersize=8),\n",
    "        Line2D([0], [0], marker='^', color='w', label='Predicted 0', markerfacecolor='pink', markersize=8),\n",
    "        Line2D([0], [0], marker='^', color='w', label='Predicted 1', markerfacecolor='lightblue', markersize=8)\n",
    "    ]\n",
    "    ax.legend(handles=legend_elements, loc='best')\n",
    "    plt.show()"
   ]
  },
  {
   "cell_type": "code",
   "execution_count": null,
   "id": "c10d040d-3900-4942-883c-b040704f7baf",
   "metadata": {},
   "outputs": [],
   "source": [
    "draw_scatter_plot_3d_with_fx(x_test[:, 0], x_test[:, 1], x_test[:, 2], y_test, fx, 'GRE', 'GPA', 'Rank')"
   ]
  },
  {
   "cell_type": "code",
   "execution_count": null,
   "id": "ff8a684f-777f-4c2c-8939-2b1f28437d16",
   "metadata": {},
   "outputs": [],
   "source": []
  }
 ],
 "metadata": {
  "kernelspec": {
   "display_name": "Python 3 (ipykernel)",
   "language": "python",
   "name": "python3"
  },
  "language_info": {
   "codemirror_mode": {
    "name": "ipython",
    "version": 3
   },
   "file_extension": ".py",
   "mimetype": "text/x-python",
   "name": "python",
   "nbconvert_exporter": "python",
   "pygments_lexer": "ipython3",
   "version": "3.12.10"
  }
 },
 "nbformat": 4,
 "nbformat_minor": 5
}
