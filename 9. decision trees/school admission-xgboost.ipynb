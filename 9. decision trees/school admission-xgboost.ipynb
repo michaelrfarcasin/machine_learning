{
 "cells": [
  {
   "cell_type": "code",
   "execution_count": null,
   "id": "56105f8c-4796-4dbe-bedc-2587e9e8a2c7",
   "metadata": {},
   "outputs": [],
   "source": [
    "import pandas as pd\n",
    "from sklearn.model_selection import train_test_split\n",
    "from sklearn.preprocessing import StandardScaler\n",
    "from sklearn.metrics import accuracy_score\n",
    "from xgboost import XGBClassifier\n",
    "import matplotlib.pyplot as plt\n",
    "from mpl_toolkits.mplot3d import Axes3D\n",
    "from matplotlib.lines import Line2D\n",
    "import numpy as np"
   ]
  },
  {
   "cell_type": "code",
   "execution_count": null,
   "id": "859d938f-4b05-45f4-8ebc-86ae06c23ca1",
   "metadata": {},
   "outputs": [],
   "source": [
    "def dataframe_to_xy(dataframe):\n",
    "    data = dataframe.to_numpy()\n",
    "    y = data[:, 0]\n",
    "    X = data[:, 1:]\n",
    "    return X, y"
   ]
  },
  {
   "cell_type": "code",
   "execution_count": null,
   "id": "72ce282c-bd56-4267-af60-9e8c5a39a84f",
   "metadata": {},
   "outputs": [],
   "source": [
    "xy_dataframe = pd.read_stata('binary.dta') # https://stats.oarc.ucla.edu/stata/dae/logistic-regression/"
   ]
  },
  {
   "cell_type": "code",
   "execution_count": null,
   "id": "143b618c-1094-47e1-9f4d-cad14a7cb065",
   "metadata": {},
   "outputs": [],
   "source": [
    "xy_dataframe.info()"
   ]
  },
  {
   "cell_type": "code",
   "execution_count": null,
   "id": "5f54e0ae-3a03-4278-b618-e51d0926952b",
   "metadata": {},
   "outputs": [],
   "source": [
    "X, y = dataframe_to_xy(xy_dataframe)"
   ]
  },
  {
   "cell_type": "code",
   "execution_count": null,
   "id": "78f72e6e-26c3-4889-a704-67a67431b45f",
   "metadata": {},
   "outputs": [],
   "source": [
    "# Compute a baseline for accuracy\n",
    "unique, counts = np.unique(y, return_counts=True)\n",
    "print(dict(zip(unique, counts)))\n",
    "baseline_accuracy = counts.max() / counts.sum()\n",
    "print(\"Majority baseline:\", baseline_accuracy)"
   ]
  },
  {
   "cell_type": "code",
   "execution_count": null,
   "id": "9ba767a7-e308-464d-9772-7e08d3d2adc8",
   "metadata": {},
   "outputs": [],
   "source": [
    "# Get 60% of the dataset as the training set. Put the remaining 40% in temporary variables: x_ and y_.\n",
    "x_train, x_, y_train, y_ = train_test_split(X, y, test_size=0.40, random_state=1)\n",
    "\n",
    "# Split the 40% subset above into two: one half for cross validation and the other for the test set\n",
    "x_cv, x_test, y_cv, y_test = train_test_split(x_, y_, test_size=0.50, random_state=1)\n",
    "\n",
    "# Delete temporary variables\n",
    "del x_, y_"
   ]
  },
  {
   "cell_type": "code",
   "execution_count": null,
   "id": "26d9a030-f9bc-42b1-9f4b-1bbc55c6d5d9",
   "metadata": {},
   "outputs": [],
   "source": [
    "def draw_scatter_plot_3d(x1, x2, x3, y, x1_label='X axis', x2_label='Y axis', x3_label='Z axis', y_labels=['0', '1']):\n",
    "    fig = plt.figure(figsize=(8, 6))\n",
    "    ax = fig.add_subplot(111, projection='3d')\n",
    "    colors = ['red' if label == 0 else 'blue' for label in y]\n",
    "    ax.scatter(x1, x2, x3, c=colors, s=50, alpha=0.8)\n",
    "    ax.set_xlabel(x1_label)\n",
    "    ax.set_ylabel(x2_label)\n",
    "    ax.set_zlabel(x3_label)\n",
    "    legend_elements = [\n",
    "        Line2D([0], [0], marker='o', color='w', label=y_labels[0], markerfacecolor='red', markersize=8),\n",
    "        Line2D([0], [0], marker='o', color='w', label=y_labels[1], markerfacecolor='blue', markersize=8)\n",
    "    ]\n",
    "    ax.legend(handles=legend_elements, loc='best')\n",
    "    plt.show()"
   ]
  },
  {
   "cell_type": "code",
   "execution_count": null,
   "id": "253d8e9d-b5fd-47c4-89ab-46ecf038eb2c",
   "metadata": {},
   "outputs": [],
   "source": [
    "draw_scatter_plot_3d(X[:, 0], X[:, 1], X[:, 2], y, 'GRE', 'GPA', 'Rank', ['Not Admitted', 'Admitted'])"
   ]
  },
  {
   "cell_type": "code",
   "execution_count": null,
   "id": "5d5de955-f67c-425a-acd0-f3b88d7d8df5",
   "metadata": {},
   "outputs": [],
   "source": [
    "xgb_model = XGBClassifier(learning_rate = 0.1, verbosity = 1, early_stopping_rounds = 10)\n",
    "xgb_model.fit(x_train, y_train, eval_set = [(x_cv, y_cv)])"
   ]
  },
  {
   "cell_type": "code",
   "execution_count": null,
   "id": "f99147f8-899a-42fc-80f6-30db402ec4f5",
   "metadata": {},
   "outputs": [],
   "source": [
    "print(f\"Metrics train:\\n\\tAccuracy score: {accuracy_score(xgb_model.predict(x_train), y_train):.4f}\")\n",
    "print(f\"Metrics cv:\\n\\tAccuracy score: {accuracy_score(xgb_model.predict(x_cv), y_cv):.4f}\")\n",
    "fx = xgb_model.predict(x_test)\n",
    "test_accuracy = accuracy_score(fx, y_test)\n",
    "print(f\"Metrics test:\\n\\tAccuracy score: {test_accuracy:.4f}\")"
   ]
  },
  {
   "cell_type": "code",
   "execution_count": null,
   "id": "b8566404-a91c-42a7-9443-22b335e2e9f4",
   "metadata": {},
   "outputs": [],
   "source": [
    "accuracy_improvement = test_accuracy - baseline_accuracy\n",
    "print(f'{test_accuracy:.4f} is a {accuracy_improvement:.4f} improvement over the baseline {baseline_accuracy:.4f}')"
   ]
  },
  {
   "cell_type": "code",
   "execution_count": null,
   "id": "6769e1a7-a7e2-4cb2-be69-68c2e023fe2e",
   "metadata": {},
   "outputs": [],
   "source": [
    "# this exactly matches the neural network's accuracy improvement over the baseline\n",
    "# and outperformed the random forest algorithm"
   ]
  },
  {
   "cell_type": "code",
   "execution_count": null,
   "id": "38c938f0-c539-4ec2-a27a-287f59dd2581",
   "metadata": {},
   "outputs": [],
   "source": [
    "def draw_scatter_plot_3d_with_fx(x1, x2, x3, y, fx, x1_label='X axis', x2_label='Y axis', x3_label='Z axis'):\n",
    "    fig = plt.figure(figsize=(8, 6))\n",
    "    ax = fig.add_subplot(111, projection='3d')\n",
    "    colors_actual = ['red' if label == 0 else 'blue' for label in y]\n",
    "    ax.scatter(x1, x2, x3, c=colors_actual, s=50, alpha=0.4, label='Actual')\n",
    "    colors_predicted = ['pink' if label == 0 else 'lightblue' for label in fx]\n",
    "    ax.scatter(x1, x2, x3, c=colors_predicted, s=20, alpha=0.8, label='Predicted', marker='^')\n",
    "    ax.set_xlabel(x1_label)\n",
    "    ax.set_ylabel(x2_label)\n",
    "    ax.set_zlabel(x3_label)\n",
    "    legend_elements = [\n",
    "        Line2D([0], [0], marker='o', color='w', label='Actual 0', markerfacecolor='red', markersize=8),\n",
    "        Line2D([0], [0], marker='o', color='w', label='Actual 1', markerfacecolor='blue', markersize=8),\n",
    "        Line2D([0], [0], marker='^', color='w', label='Predicted 0', markerfacecolor='pink', markersize=8),\n",
    "        Line2D([0], [0], marker='^', color='w', label='Predicted 1', markerfacecolor='lightblue', markersize=8)\n",
    "    ]\n",
    "    ax.legend(handles=legend_elements, loc='best')\n",
    "    plt.show()"
   ]
  },
  {
   "cell_type": "code",
   "execution_count": null,
   "id": "c10d040d-3900-4942-883c-b040704f7baf",
   "metadata": {},
   "outputs": [],
   "source": [
    "draw_scatter_plot_3d_with_fx(x_test[:, 0], x_test[:, 1], x_test[:, 2], y_test, fx, 'GRE', 'GPA', 'Rank')"
   ]
  },
  {
   "cell_type": "code",
   "execution_count": null,
   "id": "ff8a684f-777f-4c2c-8939-2b1f28437d16",
   "metadata": {},
   "outputs": [],
   "source": []
  }
 ],
 "metadata": {
  "kernelspec": {
   "display_name": "Python 3 (ipykernel)",
   "language": "python",
   "name": "python3"
  },
  "language_info": {
   "codemirror_mode": {
    "name": "ipython",
    "version": 3
   },
   "file_extension": ".py",
   "mimetype": "text/x-python",
   "name": "python",
   "nbconvert_exporter": "python",
   "pygments_lexer": "ipython3",
   "version": "3.12.10"
  }
 },
 "nbformat": 4,
 "nbformat_minor": 5
}
