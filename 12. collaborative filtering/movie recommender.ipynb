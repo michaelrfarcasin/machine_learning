{
 "cells": [
  {
   "cell_type": "code",
   "execution_count": null,
   "id": "f02bea58-e773-4f04-91e8-cbd806af56a6",
   "metadata": {},
   "outputs": [],
   "source": [
    "import pandas as pd\n",
    "import numpy as np\n",
    "import tensorflow as tf\n",
    "from tensorflow import keras"
   ]
  },
  {
   "cell_type": "code",
   "execution_count": null,
   "id": "11bd8606-6b5f-4720-a47e-4e03bc2b574b",
   "metadata": {},
   "outputs": [],
   "source": [
    "# https://grouplens.org/datasets/movielens/latest/\n",
    "ratings_df = pd.read_csv('./ratings.csv', delimiter=',')"
   ]
  },
  {
   "cell_type": "code",
   "execution_count": null,
   "id": "756610d6-46ed-4d3f-b100-0f1bc3d76641",
   "metadata": {},
   "outputs": [],
   "source": [
    "unique_movie_ids = ratings_df['movieId'].unique()\n",
    "unique_user_ids = ratings_df['userId'].unique()\n",
    "movie_id_to_index = {mid: i for i, mid in enumerate(unique_movie_ids)}\n",
    "user_id_to_index = {uid: i for i, uid in enumerate(unique_user_ids)}\n",
    "num_movies = len(unique_movie_ids)\n",
    "num_users = len(unique_user_ids)"
   ]
  },
  {
   "cell_type": "code",
   "execution_count": null,
   "id": "e85ff940-a389-4399-b3a1-70d6b6313c5b",
   "metadata": {},
   "outputs": [],
   "source": [
    "# Compute ratings matrices Y and R\n",
    "# Y[i, j] contains the rating user j gave movie i\n",
    "# R[i, j] contains 1 if user j rated the movie i\n",
    "Y = np.zeros((num_movies, num_users))\n",
    "R = np.zeros((num_movies, num_users))\n",
    "for _, row in ratings_df.iterrows():\n",
    "    i = movie_id_to_index[row['movieId']]\n",
    "    j = user_id_to_index[row['userId']]\n",
    "    Y[i, j] = row['rating']\n",
    "    R[i, j] = 1"
   ]
  },
  {
   "cell_type": "code",
   "execution_count": null,
   "id": "01ef9992-30cc-48d3-b39e-eb6648a632c1",
   "metadata": {},
   "outputs": [],
   "source": [
    "def normalizeY(Y, R):\n",
    "    \"\"\"\n",
    "    Preprocess data by subtracting mean rating for every movie (every row).\n",
    "    Only include real ratings R(i,j)=1.\n",
    "    [Ynorm, Ymean] = normalizeY(Y, R) normalized Y so that each movie\n",
    "    has a rating of 0 on average. Unrated moves then have a mean rating (0)\n",
    "    Returns the mean rating in Ymean.\n",
    "    \"\"\"\n",
    "    Ymean = (np.sum(Y*R,axis=1)/(np.sum(R, axis=1)+1e-12)).reshape(-1,1)\n",
    "    Ynorm = Y - np.multiply(Ymean, R) \n",
    "    return(Ynorm, Ymean)"
   ]
  },
  {
   "cell_type": "code",
   "execution_count": null,
   "id": "ee43206b-d505-44de-bdb2-eec284b8248d",
   "metadata": {},
   "outputs": [],
   "source": [
    "def cost(X, W, b, Y, R, lambda_):\n",
    "    \"\"\"\n",
    "    Returns the cost for the content-based filtering\n",
    "    Vectorized for speed. Uses tensorflow operations to be compatible with custom training loop.\n",
    "    Args:\n",
    "      X (ndarray (num_movies,num_features)): matrix of item features\n",
    "      W (ndarray (num_users,num_features)) : matrix of user parameters\n",
    "      b (ndarray (1, num_users)            : vector of user parameters\n",
    "      Y (ndarray (num_movies,num_users)    : matrix of user ratings of movies\n",
    "      R (ndarray (num_movies,num_users)    : matrix, where R(i, j) = 1 if the i-th movies was rated by the j-th user\n",
    "      lambda_ (float): regularization parameter\n",
    "    Returns:\n",
    "      J (float) : Cost\n",
    "    \"\"\"\n",
    "    j = (tf.linalg.matmul(X, tf.transpose(W)) + b - Y)*R\n",
    "    J = 0.5 * tf.reduce_sum(j**2) + (lambda_/2) * (tf.reduce_sum(X**2) + tf.reduce_sum(W**2))\n",
    "    return J"
   ]
  },
  {
   "cell_type": "code",
   "execution_count": null,
   "id": "112a177f-e8b4-4173-a1fb-cef0607c3c5b",
   "metadata": {},
   "outputs": [],
   "source": [
    "my_ratings = np.zeros(num_movies)\n",
    "my_ratings[movie_id_to_index[83132]] = 5\n",
    "my_ratings[movie_id_to_index[5989]] = 5\n",
    "my_ratings[movie_id_to_index[60487]] = 5\n",
    "my_ratings[movie_id_to_index[26133]] = 5\n",
    "my_ratings[movie_id_to_index[26555]] = 5\n",
    "my_ratings[movie_id_to_index[65261]] = 5\n",
    "my_ratings[movie_id_to_index[59315]] = 1\n",
    "my_ratings[movie_id_to_index[4954]] = 1\n",
    "my_ratings[movie_id_to_index[89745]] = 1\n",
    "my_rated = [i for i in range(len(my_ratings)) if my_ratings[i] > 0]"
   ]
  },
  {
   "cell_type": "code",
   "execution_count": null,
   "id": "298a63c2-5b9c-4897-8898-09d41e6648c4",
   "metadata": {},
   "outputs": [],
   "source": [
    "movies_df = pd.read_csv('./movies.csv', delimiter=',', quotechar='\"')"
   ]
  },
  {
   "cell_type": "code",
   "execution_count": null,
   "id": "c5c1eb59-4521-4672-9f20-f7a3400812be",
   "metadata": {},
   "outputs": [],
   "source": [
    "index_to_movie_id = {i: mid for mid, i in movie_id_to_index.items()}\n",
    "movie_titles = movies_df.set_index('movieId')['title'].to_dict()"
   ]
  },
  {
   "cell_type": "code",
   "execution_count": null,
   "id": "1fe94a41-b22a-4674-8a95-4844f4f49764",
   "metadata": {},
   "outputs": [],
   "source": [
    "def getTitle(index):\n",
    "    movie_id = index_to_movie_id[index]\n",
    "    return movie_titles.get(movie_id, \"Unknown Movie\")"
   ]
  },
  {
   "cell_type": "code",
   "execution_count": null,
   "id": "588be96a-73ab-4c81-a07f-05f77991b58e",
   "metadata": {},
   "outputs": [],
   "source": [
    "print('\\nNew user ratings:\\n')\n",
    "for i in range(len(my_ratings)):\n",
    "    if my_ratings[i] > 0 :\n",
    "        print(f'Rated {my_ratings[i]} for {getTitle(i)}');"
   ]
  },
  {
   "cell_type": "code",
   "execution_count": null,
   "id": "da40f894-3628-4f3a-ac1d-ef5afbdb08f0",
   "metadata": {},
   "outputs": [],
   "source": [
    "# Add new user ratings to Y  and R\n",
    "Y = np.c_[my_ratings, Y]\n",
    "R = np.c_[(my_ratings != 0).astype(int), R]\n",
    "Ynorm, Ymean = normalizeY(Y, R)"
   ]
  },
  {
   "cell_type": "code",
   "execution_count": null,
   "id": "6f6e6853-8d28-4798-a8dc-aeef476d8fd6",
   "metadata": {},
   "outputs": [],
   "source": [
    "# Initialize model parameters\n",
    "num_movies, num_users = Y.shape\n",
    "num_features = 100\n",
    "W = tf.Variable(tf.random.normal((num_users,  num_features),dtype=tf.float64),  name='W')\n",
    "X = tf.Variable(tf.random.normal((num_movies, num_features),dtype=tf.float64),  name='X')\n",
    "b = tf.Variable(tf.random.normal((1,          num_users),   dtype=tf.float64),  name='b')"
   ]
  },
  {
   "cell_type": "code",
   "execution_count": null,
   "id": "a99b7bbb-21d4-4d5b-af1f-7c2de4a13950",
   "metadata": {},
   "outputs": [],
   "source": [
    "# Train the model\n",
    "optimizer = keras.optimizers.Adam(learning_rate=0.1)\n",
    "lambda_ = 1\n",
    "iterations = 200\n",
    "previous_cost = float('inf')\n",
    "for iter in range(iterations):\n",
    "    # Use TensorFlow's Gradient Tape \n",
    "    # to record the steps used to compute the cost\n",
    "    with tf.GradientTape() as tape:\n",
    "        # Compute the cost (forward pass is included in cost)\n",
    "        cost_value = cost(X, W, b, Ynorm, R, lambda_)\n",
    "\n",
    "    # Use the gradient tape to automatically retrieve \n",
    "    # the gradients of the trainable variables with respect to the loss\n",
    "    grads = tape.gradient( cost_value, [X, W, b] )\n",
    "\n",
    "    # Run one step of gradient descent by updating\n",
    "    # the value of the variables to minimize the loss.\n",
    "    optimizer.apply_gradients( zip(grads, [X, W, b]) )\n",
    "    \n",
    "    # Log periodically.\n",
    "    if iter % 20 == 0:\n",
    "        print(f\"Training loss at iteration {iter}: {cost_value:0.1f}\")\n",
    "    if abs(cost_value - previous_cost) < 1:\n",
    "        break\n",
    "    previous_cost = cost_value\n",
    "print(f\"Finished. Training loss at iteration {iter}: {cost_value:0.1f}\")"
   ]
  },
  {
   "cell_type": "code",
   "execution_count": null,
   "id": "bc39a292-5bcc-45f4-9a92-4adb6a5dc901",
   "metadata": {},
   "outputs": [],
   "source": [
    "# Make a prediction using trained weights and biases\n",
    "p = np.matmul(X.numpy(), np.transpose(W.numpy())) + b.numpy()\n",
    "\n",
    "#restore the mean\n",
    "pm = p + Ymean\n",
    "\n",
    "my_predictions = pm[:,0]\n",
    "\n",
    "# sort predictions\n",
    "ix = tf.argsort(my_predictions, direction='DESCENDING')\n",
    "\n",
    "print('\\n\\nTop recommendations:\\n')\n",
    "for i in range(17):\n",
    "    j = int(ix[i])\n",
    "    if j not in my_rated:\n",
    "        print(f'Predicting rating {my_predictions[j]:0.2f} for movie {movies_df.loc[j, \"title\"]}')\n",
    "\n",
    "print('\\n\\nOriginal vs Predicted ratings:\\n')\n",
    "for i in range(len(my_ratings)):\n",
    "    if my_ratings[i] > 0:\n",
    "        print(f'Original {my_ratings[i]}, Predicted {my_predictions[i]:0.2f} for {getTitle(i)}')"
   ]
  },
  {
   "cell_type": "code",
   "execution_count": null,
   "id": "3b3f7a40-9166-4660-8d48-ee51845f89ed",
   "metadata": {},
   "outputs": [],
   "source": [
    "# I thought the max rating was supposed to be 5, but this shows the model isn't constrained like the inputs"
   ]
  },
  {
   "cell_type": "code",
   "execution_count": null,
   "id": "40bd40ea-af23-4401-92e5-5168397dce1e",
   "metadata": {},
   "outputs": [],
   "source": [
    "i = movie_id_to_index[7361]\n",
    "print(f'{my_predictions[i]:.2f} for {getTitle(i)}')\n",
    "i = movie_id_to_index[2394]\n",
    "print(f'{my_predictions[i]:.2f} for {getTitle(i)}')\n",
    "i = movie_id_to_index[44199]\n",
    "print(f'{my_predictions[i]:.2f} for {getTitle(i)}')\n",
    "i = movie_id_to_index[48394]\n",
    "print(f'{my_predictions[i]:.2f} for {getTitle(i)}')"
   ]
  },
  {
   "cell_type": "code",
   "execution_count": null,
   "id": "748f6929-d2ec-4af6-9629-58bd08ab79c9",
   "metadata": {},
   "outputs": [],
   "source": []
  }
 ],
 "metadata": {
  "kernelspec": {
   "display_name": "Python 3 (ipykernel)",
   "language": "python",
   "name": "python3"
  },
  "language_info": {
   "codemirror_mode": {
    "name": "ipython",
    "version": 3
   },
   "file_extension": ".py",
   "mimetype": "text/x-python",
   "name": "python",
   "nbconvert_exporter": "python",
   "pygments_lexer": "ipython3",
   "version": "3.12.10"
  }
 },
 "nbformat": 4,
 "nbformat_minor": 5
}
