{
 "cells": [
  {
   "cell_type": "code",
   "execution_count": null,
   "id": "56105f8c-4796-4dbe-bedc-2587e9e8a2c7",
   "metadata": {},
   "outputs": [],
   "source": [
    "import numpy as np\n",
    "import matplotlib.pyplot as plt\n",
    "from mpl_toolkits.mplot3d import Axes3D\n",
    "from matplotlib.lines import Line2D\n",
    "import copy, math\n",
    "import pandas as pd"
   ]
  },
  {
   "cell_type": "code",
   "execution_count": null,
   "id": "859d938f-4b05-45f4-8ebc-86ae06c23ca1",
   "metadata": {},
   "outputs": [],
   "source": [
    "def dataframe_to_xy(dataframe):\n",
    "    data = dataframe.to_numpy()\n",
    "    y = data[:, 0]\n",
    "    X = data[:, 1:]\n",
    "    return X, y"
   ]
  },
  {
   "cell_type": "code",
   "execution_count": null,
   "id": "72ce282c-bd56-4267-af60-9e8c5a39a84f",
   "metadata": {},
   "outputs": [],
   "source": [
    "xy_dataframe = pd.read_stata('binary.dta') # https://stats.oarc.ucla.edu/stata/dae/logistic-regression/"
   ]
  },
  {
   "cell_type": "code",
   "execution_count": null,
   "id": "143b618c-1094-47e1-9f4d-cad14a7cb065",
   "metadata": {},
   "outputs": [],
   "source": [
    "xy_dataframe.info()"
   ]
  },
  {
   "cell_type": "code",
   "execution_count": null,
   "id": "5f54e0ae-3a03-4278-b618-e51d0926952b",
   "metadata": {},
   "outputs": [],
   "source": [
    "X, y = dataframe_to_xy(xy_dataframe)"
   ]
  },
  {
   "cell_type": "code",
   "execution_count": null,
   "id": "fa57779f-4ef9-46dc-8224-5c456d56359b",
   "metadata": {},
   "outputs": [],
   "source": [
    "x_train = X[:-10, :]\n",
    "x_future = X[-10:, :]\n",
    "y_train = y[:-10]\n",
    "y_future = y[-10:]"
   ]
  },
  {
   "cell_type": "code",
   "execution_count": null,
   "id": "26d9a030-f9bc-42b1-9f4b-1bbc55c6d5d9",
   "metadata": {},
   "outputs": [],
   "source": [
    "def draw_scatter_plot_3d(x1, x2, x3, y, x1_label='X axis', x2_label='Y axis', x3_label='Z axis', y_labels=['0', '1']):\n",
    "    fig = plt.figure(figsize=(8, 6))\n",
    "    ax = fig.add_subplot(111, projection='3d')\n",
    "    colors = ['red' if label == 0 else 'blue' for label in y]\n",
    "    ax.scatter(x1, x2, x3, c=colors, s=50, alpha=0.8)\n",
    "    ax.set_xlabel(x1_label)\n",
    "    ax.set_ylabel(x2_label)\n",
    "    ax.set_zlabel(x3_label)\n",
    "    legend_elements = [\n",
    "        Line2D([0], [0], marker='o', color='w', label=y_labels[0], markerfacecolor='red', markersize=8),\n",
    "        Line2D([0], [0], marker='o', color='w', label=y_labels[1], markerfacecolor='blue', markersize=8)\n",
    "    ]\n",
    "    ax.legend(handles=legend_elements, loc='best')\n",
    "    plt.show()"
   ]
  },
  {
   "cell_type": "code",
   "execution_count": null,
   "id": "253d8e9d-b5fd-47c4-89ab-46ecf038eb2c",
   "metadata": {},
   "outputs": [],
   "source": [
    "draw_scatter_plot_3d(X[:, 0], X[:, 1], X[:, 2], y, 'GRE', 'GPA', 'Rank', ['Not Admitted', 'Admitted'])"
   ]
  },
  {
   "cell_type": "code",
   "execution_count": null,
   "id": "a3857c21-474b-48e3-8d2f-a107a7e660fa",
   "metadata": {},
   "outputs": [],
   "source": [
    "def sigmoid(z):\n",
    "    g = 1/(1+np.exp(-z))\n",
    "    return g"
   ]
  },
  {
   "cell_type": "code",
   "execution_count": null,
   "id": "4fe2d6e4-b0a1-46c9-842d-26854867fbbf",
   "metadata": {},
   "outputs": [],
   "source": [
    "def compute_cost(X, y, w, b, lambda_ = 1):\n",
    "    m, n = X.shape #(number of examples, number of features)\n",
    "    cost = 0.0\n",
    "    for i in range(m):\n",
    "        z = np.dot(X[i], w) + b\n",
    "        f_wb = sigmoid(z)\n",
    "        cost +=  -y[i] * np.log(f_wb) - (1 - y[i]) * np.log(1 - f_wb)\n",
    "    cost /= m\n",
    "\n",
    "    # perform regularization\n",
    "    regularized_cost = 0\n",
    "    for j in range(n):\n",
    "        regularized_cost += w[j]**2\n",
    "    regularized_cost *= lambda_ / (2 * m)\n",
    "    \n",
    "    return cost + regularized_cost"
   ]
  },
  {
   "cell_type": "code",
   "execution_count": null,
   "id": "55631036-4aa9-4b26-8db8-98d5bb67d8c8",
   "metadata": {
    "editable": true,
    "slideshow": {
     "slide_type": ""
    },
    "tags": []
   },
   "outputs": [],
   "source": [
    "def compute_gradient(X, y, w, b, lambda_ = 1):\n",
    "    m,n = X.shape #(number of examples, number of features)\n",
    "    dj_dw = np.zeros((n,))\n",
    "    dj_db = 0\n",
    "    for i in range(m):\n",
    "        f_wb = sigmoid(np.dot(X[i], w) + b)\n",
    "        err = f_wb - y[i]\n",
    "        for j in range(n):\n",
    "            dj_dw[j] += err * X[i, j]\n",
    "        dj_db += err\n",
    "    dj_dw /= m\n",
    "    dj_db /= m\n",
    "\n",
    "    # perform regularization\n",
    "    for j in range(n):\n",
    "        dj_dw[j] += lambda_ / m * w[j]\n",
    "        \n",
    "    return dj_dw, dj_db"
   ]
  },
  {
   "cell_type": "code",
   "execution_count": null,
   "id": "cd544d62-d0b2-4b96-9d53-30fcab96f685",
   "metadata": {
    "editable": true,
    "slideshow": {
     "slide_type": ""
    },
    "tags": []
   },
   "outputs": [],
   "source": [
    "def gradient_descent(X, y, w_in, b_in = 0, alpha = 0.01, lambda_ = 1, num_iterations = 10000):\n",
    "    cost_history = []\n",
    "    w = copy.deepcopy(w_in)\n",
    "    b = b_in\n",
    "    for i in range(num_iterations):\n",
    "        dj_dw, dj_db = compute_gradient(X, y, w, b, lambda_)\n",
    "        b = b - alpha * dj_db\n",
    "        w = w - alpha * dj_dw\n",
    "        # save cost at each iteration\n",
    "        if i < 100000: # prevent resource exhaustion\n",
    "            cost_history.append(compute_cost(X, y, w, b, lambda_))\n",
    "        # print cost at 10 intervals, or each iteration if < 10\n",
    "        if i % math.ceil(num_iterations / 10) == 0:\n",
    "            print(f\"Iteration {i:4d}: Cost {cost_history[-1]:.2e}\",\n",
    "                  f\"w: {w}, b: {b:.3e}\")\n",
    "        if math.isnan(cost_history[-1]):\n",
    "            raise ValueError(f\"Cost is not a number at iteration {i}.\")\n",
    "    return w, b, cost_history"
   ]
  },
  {
   "cell_type": "code",
   "execution_count": null,
   "id": "a1998de6-108b-4856-be28-f79570cbe3b2",
   "metadata": {},
   "outputs": [],
   "source": [
    "np.set_printoptions(precision=3, suppress=True)"
   ]
  },
  {
   "cell_type": "code",
   "execution_count": null,
   "id": "428ec2fc-64b5-4fea-a6fa-79912525e824",
   "metadata": {},
   "outputs": [],
   "source": [
    "def z_score_normalize(X):\n",
    "    m,n = X.shape\n",
    "    z_scores = np.zeros((m, n))\n",
    "    for i in range(n):\n",
    "        x_mean = np.mean(X[:, i])\n",
    "        x_std_dev = np.std(X[:, i])\n",
    "        z_scores[:, i] = (X[:, i] - x_mean) / x_std_dev\n",
    "    return z_scores"
   ]
  },
  {
   "cell_type": "code",
   "execution_count": null,
   "id": "d44e92c8-63d0-4367-a357-ab90ea00b167",
   "metadata": {},
   "outputs": [],
   "source": [
    "num_features = x_train.shape[1]\n",
    "w = np.zeros(num_features)\n",
    "x_train_normalized = z_score_normalize(x_train)"
   ]
  },
  {
   "cell_type": "code",
   "execution_count": null,
   "id": "0d4a617b-e8d2-4f61-9227-66a2e9f6db50",
   "metadata": {},
   "outputs": [],
   "source": [
    "w, b, J_history = gradient_descent(x_train_normalized, y_train, w, 0, 0.1, 10, 200)"
   ]
  },
  {
   "cell_type": "code",
   "execution_count": null,
   "id": "a32bacc6-7c73-46d6-a2d7-52a3a877df72",
   "metadata": {},
   "outputs": [],
   "source": [
    "def saveModel(w, b):\n",
    "    filename = 'model.csv'\n",
    "    with open(filename, 'wb') as f:\n",
    "        np.savetxt(f, w, delimiter=',')\n",
    "    with open(filename, 'ab') as f:\n",
    "        np.savetxt(f, [b], delimiter=',')"
   ]
  },
  {
   "cell_type": "code",
   "execution_count": null,
   "id": "020673ea-44dd-43bf-9965-da54f73dc60d",
   "metadata": {},
   "outputs": [],
   "source": [
    "saveModel(w, b)"
   ]
  },
  {
   "cell_type": "code",
   "execution_count": null,
   "id": "18ed8abd-3d0d-417e-99a4-f1bd23bc05d4",
   "metadata": {
    "editable": true,
    "slideshow": {
     "slide_type": ""
    },
    "tags": []
   },
   "outputs": [],
   "source": [
    "x_string = ''\n",
    "wx_string = ''\n",
    "for i in range(w.shape[0]):\n",
    "    if i > 0:\n",
    "        x_string += ', '\n",
    "        wx_string += ' + '\n",
    "    x_string += f'x_{i}'\n",
    "    wx_string += f'{w[i]:.2f} x_{i}'\n",
    "print(f'f_wb({x_string}) = {wx_string} + {b:.2f}')"
   ]
  },
  {
   "cell_type": "code",
   "execution_count": null,
   "id": "a0d7a0c5-74dc-4b15-9cda-d0af834ce407",
   "metadata": {},
   "outputs": [],
   "source": [
    "fx = np.zeros(x_train_normalized.shape[0])\n",
    "for i in range(x_train_normalized.shape[0]):\n",
    "    fx[i] = sigmoid(np.dot(x_train_normalized[i], w) + b)\n",
    "    fx[i] = 0 if fx[i] < 0.5 else 1"
   ]
  },
  {
   "cell_type": "code",
   "execution_count": null,
   "id": "3c44948d-5bf6-4ebf-9027-f4c6229ecab1",
   "metadata": {},
   "outputs": [],
   "source": [
    "np.savetxt('fx.csv', fx, delimiter=',')"
   ]
  },
  {
   "cell_type": "code",
   "execution_count": null,
   "id": "38c938f0-c539-4ec2-a27a-287f59dd2581",
   "metadata": {},
   "outputs": [],
   "source": [
    "def draw_scatter_plot_3d_with_fx(x1, x2, x3, y, fx, x1_label='X axis', x2_label='Y axis', x3_label='Z axis'):\n",
    "    fig = plt.figure(figsize=(8, 6))\n",
    "    ax = fig.add_subplot(111, projection='3d')\n",
    "    colors_actual = ['red' if label == 0 else 'blue' for label in y]\n",
    "    ax.scatter(x1, x2, x3, c=colors_actual, s=50, alpha=0.4, label='Actual')\n",
    "    colors_predicted = ['pink' if label == 0 else 'lightblue' for label in fx]\n",
    "    ax.scatter(x1, x2, x3, c=colors_predicted, s=20, alpha=0.8, label='Predicted', marker='^')\n",
    "    ax.set_xlabel(x1_label)\n",
    "    ax.set_ylabel(x2_label)\n",
    "    ax.set_zlabel(x3_label)\n",
    "    legend_elements = [\n",
    "        Line2D([0], [0], marker='o', color='w', label='Actual 0', markerfacecolor='red', markersize=8),\n",
    "        Line2D([0], [0], marker='o', color='w', label='Actual 1', markerfacecolor='blue', markersize=8),\n",
    "        Line2D([0], [0], marker='^', color='w', label='Predicted 0', markerfacecolor='pink', markersize=8),\n",
    "        Line2D([0], [0], marker='^', color='w', label='Predicted 1', markerfacecolor='lightblue', markersize=8)\n",
    "    ]\n",
    "    ax.legend(handles=legend_elements, loc='best')\n",
    "    plt.show()"
   ]
  },
  {
   "cell_type": "code",
   "execution_count": null,
   "id": "c10d040d-3900-4942-883c-b040704f7baf",
   "metadata": {},
   "outputs": [],
   "source": [
    "draw_scatter_plot_3d_with_fx(x_train[:, 0], x_train[:, 1], x_train[:, 2], y_train, fx, 'GRE', 'GPA', 'Rank')"
   ]
  },
  {
   "cell_type": "code",
   "execution_count": null,
   "id": "eff870f0-8905-484d-a89e-a36d1a0d74a0",
   "metadata": {},
   "outputs": [],
   "source": [
    "x_future_normalized = z_score_normalize(x_future)"
   ]
  },
  {
   "cell_type": "code",
   "execution_count": null,
   "id": "48e99ba9-2324-48ce-abbc-d91ae501ccb6",
   "metadata": {},
   "outputs": [],
   "source": [
    "fx_future = np.zeros(x_future_normalized.shape[0])\n",
    "for i in range(x_future_normalized.shape[0]):\n",
    "    fx_future[i] = sigmoid(np.dot(x_train_normalized[i], w) + b)\n",
    "    fx_future[i] = 0 if fx[i] < 0.5 else 1"
   ]
  },
  {
   "cell_type": "code",
   "execution_count": null,
   "id": "2379771e-5735-4eed-8df9-9c16d225eac2",
   "metadata": {},
   "outputs": [],
   "source": [
    "for i in range(x_future_normalized.shape[0]):\n",
    "    print(f\"{int(x_future_normalized[i, 0])}: |{int(fx_future[i])} - {int(y_future[i])}| = {int(abs(fx_future[i] - y_future[i]))}\")\n",
    "cost_predict = compute_cost(x_future_normalized, y_future, w, b)\n",
    "print(f\"Cost of future predictions: {cost_predict:.2f}\")"
   ]
  },
  {
   "cell_type": "code",
   "execution_count": null,
   "id": "affe7a7a-7e64-46fa-b3e5-8fcddd05e670",
   "metadata": {},
   "outputs": [],
   "source": [
    "draw_scatter_plot_3d_with_fx(x_future[:, 0], x_future[:, 1], x_future[:, 2], y_future, fx_future, 'GRE', 'GPA', 'Rank')"
   ]
  },
  {
   "cell_type": "code",
   "execution_count": null,
   "id": "042e8216-f571-4f0b-9c26-a08d2e110c7c",
   "metadata": {
    "editable": true,
    "slideshow": {
     "slide_type": ""
    },
    "tags": []
   },
   "outputs": [],
   "source": [
    "# in this case, the original model appeared to be underfitted, and regularization made the problem worse"
   ]
  }
 ],
 "metadata": {
  "kernelspec": {
   "display_name": "Python 3 (ipykernel)",
   "language": "python",
   "name": "python3"
  },
  "language_info": {
   "codemirror_mode": {
    "name": "ipython",
    "version": 3
   },
   "file_extension": ".py",
   "mimetype": "text/x-python",
   "name": "python",
   "nbconvert_exporter": "python",
   "pygments_lexer": "ipython3",
   "version": "3.14.0"
  }
 },
 "nbformat": 4,
 "nbformat_minor": 5
}
