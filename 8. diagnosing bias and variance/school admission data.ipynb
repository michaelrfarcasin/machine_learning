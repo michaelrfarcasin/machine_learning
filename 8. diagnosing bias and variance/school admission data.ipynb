{
 "cells": [
  {
   "cell_type": "code",
   "execution_count": null,
   "id": "9ed17fb6-2045-45b2-8588-2f218278ab8b",
   "metadata": {},
   "outputs": [],
   "source": [
    "# show the individual columns compared with admission"
   ]
  },
  {
   "cell_type": "code",
   "execution_count": null,
   "id": "8b92381a-9010-4d0b-8891-ad0d64df34f6",
   "metadata": {},
   "outputs": [],
   "source": [
    "import pandas as pd\n",
    "import matplotlib.pyplot as plt\n",
    "import statistics"
   ]
  },
  {
   "cell_type": "code",
   "execution_count": null,
   "id": "4a5d1084-06af-4474-9892-0924c602e51d",
   "metadata": {},
   "outputs": [],
   "source": [
    "# Load the .dta file\n",
    "file_path = \"binary.dta\"  # adjust path if needed\n",
    "df = pd.read_stata(file_path)"
   ]
  },
  {
   "cell_type": "code",
   "execution_count": null,
   "id": "dffe61d1-bd24-4df4-a869-1e235e89a6fa",
   "metadata": {},
   "outputs": [],
   "source": [
    "# 1. Line graph: GRE vs frequency, separated by admit\n",
    "plt.figure(figsize=(10, 6))\n",
    "means = []\n",
    "for label, group in df.groupby(\"admit\"):\n",
    "    gre_counts = group[\"gre\"].value_counts().sort_index()\n",
    "    plt.plot(gre_counts.index, gre_counts.values, label=f\"admit = {int(label)}\")\n",
    "    means.append(statistics.mean(group[\"gre\"].values))\n",
    "plt.axvline(x=means[0], color='blue', linestyle=':', label='Average admit = 0')\n",
    "plt.axvline(x=means[1], color='orange', linestyle=':', label='Average admit = 1')\n",
    "plt.title(\"GRE Score Distribution by Admission Status\")\n",
    "plt.xlabel(\"GRE Score\")\n",
    "plt.ylabel(\"Number of Instances\")\n",
    "plt.legend()\n",
    "plt.grid(True)\n",
    "plt.show()"
   ]
  },
  {
   "cell_type": "code",
   "execution_count": null,
   "id": "518a4281-a1a7-4143-9729-198cff54e170",
   "metadata": {},
   "outputs": [],
   "source": [
    "# 2. Line graph: GPA vs frequency, separated by admit\n",
    "plt.figure(figsize=(10, 6))\n",
    "means = []\n",
    "for label, group in df.groupby(\"admit\"):\n",
    "    gpa_counts = group[\"gpa\"].value_counts().sort_index()\n",
    "    plt.plot(gpa_counts.index, gpa_counts.values, label=f\"admit = {int(label)}\")\n",
    "    means.append(statistics.mean(group[\"gpa\"].values))\n",
    "plt.axvline(x=means[0], color='blue', linestyle=':', label='Average admit = 0')\n",
    "plt.axvline(x=means[1], color='orange', linestyle=':', label='Average admit = 1')\n",
    "plt.title(\"GPA Distribution by Admission Status\")\n",
    "plt.xlabel(\"GPA\")\n",
    "plt.ylabel(\"Number of Instances\")\n",
    "plt.legend()\n",
    "plt.grid(True)\n",
    "plt.show()"
   ]
  },
  {
   "cell_type": "code",
   "execution_count": null,
   "id": "8607c5ce-78c4-4db7-a163-71c6de4698cb",
   "metadata": {},
   "outputs": [],
   "source": [
    "# 3. Line graph: Rank vs frequency, separated by admit\n",
    "plt.figure(figsize=(8, 5))\n",
    "means = []\n",
    "for label, group in df.groupby(\"admit\"):\n",
    "    rank_counts = group[\"rank\"].value_counts().sort_index()\n",
    "    plt.plot(rank_counts.index, rank_counts.values, label=f\"admit = {int(label)}\", marker=\"o\")\n",
    "    means.append(statistics.mean(group[\"rank\"].values))\n",
    "plt.axvline(x=means[0], color='blue', linestyle=':', label='Average admit = 0')\n",
    "plt.axvline(x=means[1], color='orange', linestyle=':', label='Average admit = 1')\n",
    "plt.title(\"Rank Distribution by Admission Status\")\n",
    "plt.xlabel(\"Rank\")\n",
    "plt.ylabel(\"Number of Instances\")\n",
    "plt.legend()\n",
    "plt.grid(True)\n",
    "plt.show()"
   ]
  },
  {
   "cell_type": "code",
   "execution_count": null,
   "id": "0dc41482-9433-4f6f-ae92-1122379bf467",
   "metadata": {},
   "outputs": [],
   "source": []
  }
 ],
 "metadata": {
  "kernelspec": {
   "display_name": "Python 3 (ipykernel)",
   "language": "python",
   "name": "python3"
  },
  "language_info": {
   "codemirror_mode": {
    "name": "ipython",
    "version": 3
   },
   "file_extension": ".py",
   "mimetype": "text/x-python",
   "name": "python",
   "nbconvert_exporter": "python",
   "pygments_lexer": "ipython3",
   "version": "3.12.10"
  }
 },
 "nbformat": 4,
 "nbformat_minor": 5
}
