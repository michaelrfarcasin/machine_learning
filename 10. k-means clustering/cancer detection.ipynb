{
 "cells": [
  {
   "cell_type": "code",
   "execution_count": null,
   "id": "d91d0e70-8db5-4ef1-aa65-17087b41d3dd",
   "metadata": {},
   "outputs": [],
   "source": [
    "from sklearn.metrics import confusion_matrix\n",
    "from sklearn.datasets import load_breast_cancer\n",
    "import pandas as pd\n",
    "import numpy as np\n",
    "import matplotlib.pyplot as plt"
   ]
  },
  {
   "cell_type": "code",
   "execution_count": null,
   "id": "b074a5a3-95e6-4ac4-abae-2f59727d0902",
   "metadata": {},
   "outputs": [],
   "source": [
    "cancer = load_breast_cancer()\n",
    "cancer_df = pd.DataFrame(data=cancer.data, columns=cancer.feature_names)"
   ]
  },
  {
   "cell_type": "code",
   "execution_count": null,
   "id": "94477f86-3942-4e8a-820e-ad50cb5cd1aa",
   "metadata": {},
   "outputs": [],
   "source": [
    "def kMeans_init_centroids(X, K):\n",
    "    \"\"\"\n",
    "    This function initializes K centroids that are to be \n",
    "    used in K-Means on the dataset X\n",
    "    \n",
    "    Args:\n",
    "        X (ndarray): Data points \n",
    "        K (int):     number of centroids/clusters\n",
    "    \n",
    "    Returns:\n",
    "        centroids (ndarray): Initialized centroids\n",
    "    \"\"\"\n",
    "    \n",
    "    # Randomly reorder the indices of examples\n",
    "    randidx = np.random.permutation(X.shape[0])\n",
    "    \n",
    "    # Take the first K examples as centroids\n",
    "    centroids = X[randidx[:K]]\n",
    "    \n",
    "    return centroids"
   ]
  },
  {
   "cell_type": "code",
   "execution_count": null,
   "id": "5b3055c6-a29b-45dd-b16a-6fa61f4cb464",
   "metadata": {},
   "outputs": [],
   "source": [
    "def find_closest_centroids(X, centroids):\n",
    "    \"\"\"\n",
    "    Computes the centroid memberships for every example\n",
    "    \n",
    "    Args:\n",
    "        X (ndarray): (m, n) Input values      \n",
    "        centroids (ndarray): (K, n) centroids\n",
    "    \n",
    "    Returns:\n",
    "        idx (array_like): (m,) closest centroids\n",
    "    \n",
    "    \"\"\"\n",
    "\n",
    "    m = X.shape[0]\n",
    "    K = centroids.shape[0]\n",
    "    idx = np.zeros(m, dtype=int) # the index of the closest centroid to each x\n",
    "\n",
    "    for i in range(m):\n",
    "        distances = np.zeros(K)\n",
    "        for j in range(K):\n",
    "            distances[j] = np.linalg.norm(X[i] - centroids[j])\n",
    "        idx[i] = np.argmin(distances)\n",
    "    \n",
    "    return idx"
   ]
  },
  {
   "cell_type": "code",
   "execution_count": null,
   "id": "180d5c86-5a58-419d-baca-4cd8ea95dc34",
   "metadata": {},
   "outputs": [],
   "source": [
    "def compute_centroids(X, idx, K):\n",
    "    \"\"\"\n",
    "    Returns the new centroids by computing the means of the \n",
    "    data points assigned to each centroid.\n",
    "    \n",
    "    Args:\n",
    "        X (ndarray):   (m, n) Data points\n",
    "        idx (ndarray): (m,) Array containing index of closest centroid for each \n",
    "                       example in X. Concretely, idx[i] contains the index of \n",
    "                       the centroid closest to example i\n",
    "        K (int):       number of centroids\n",
    "    \n",
    "    Returns:\n",
    "        centroids (ndarray): (K, n) New centroids computed\n",
    "    \"\"\"\n",
    "    \n",
    "    m, n = X.shape\n",
    "    centroids = np.zeros((K, n))\n",
    "    \n",
    "    for k in range(K):\n",
    "        points = X[idx == k]\n",
    "        centroids[k] = np.mean(points, axis = 0)\n",
    "    \n",
    "    return centroids"
   ]
  },
  {
   "cell_type": "code",
   "execution_count": null,
   "id": "130a41e7-0651-45b0-869a-97aee3a9df36",
   "metadata": {},
   "outputs": [],
   "source": [
    "def compute_cost(X, centroids, idx):\n",
    "    cost = 0.\n",
    "    m = X.shape[0]\n",
    "\n",
    "    for i in range(m):\n",
    "        centroid = centroids[idx[i]]\n",
    "        cost += np.linalg.norm(X[i] - centroid)**2\n",
    "    cost /= m\n",
    "\n",
    "    return cost"
   ]
  },
  {
   "cell_type": "code",
   "execution_count": null,
   "id": "b0a8a7a3-6469-4379-9767-7bb4d051aa26",
   "metadata": {},
   "outputs": [],
   "source": [
    "def run_kMeans(X, initial_centroids, max_iters=10, cost_epsilon=0.01):\n",
    "    \"\"\"\n",
    "    Runs the K-Means algorithm on data matrix X, where each row of X\n",
    "    is a single example\n",
    "    \"\"\"\n",
    "    \n",
    "    m, n = X.shape\n",
    "    K = initial_centroids.shape[0]\n",
    "    centroids = initial_centroids\n",
    "    previous_centroids = centroids    \n",
    "    idx = np.zeros(m)\n",
    "    cost_history = []\n",
    "    previous_cost = float('inf')\n",
    "\n",
    "    for i in range(max_iters):\n",
    "        print(\"K-Means iteration %d/%d\" % (i, max_iters-1))\n",
    "        \n",
    "        # For each example in X, assign it to the closest centroid\n",
    "        idx = find_closest_centroids(X, centroids)\n",
    "            \n",
    "        # Given the memberships, compute new centroids\n",
    "        centroids = compute_centroids(X, idx, K)\n",
    "\n",
    "        # Compute cost of new centroids\n",
    "        cost = compute_cost(X, centroids, idx)\n",
    "        cost_history.append(cost)\n",
    "        if (abs(cost - previous_cost) < cost_epsilon):\n",
    "            print(f\"K-means converged with cost {cost}\")\n",
    "            break\n",
    "\n",
    "        previous_cost = cost\n",
    "    \n",
    "    return centroids, idx, cost_history"
   ]
  },
  {
   "cell_type": "code",
   "execution_count": null,
   "id": "72a43b2f-33c7-4439-a6f7-c236e59de741",
   "metadata": {},
   "outputs": [],
   "source": [
    "X = cancer_df.values"
   ]
  },
  {
   "cell_type": "code",
   "execution_count": null,
   "id": "ce9dd8c7-2496-4ed5-9451-aeb79af1e534",
   "metadata": {},
   "outputs": [],
   "source": [
    "K = 2 # the goal is to cluster the samples to distinguish between malignant and benign cases.\n",
    "max_iters = 10\n",
    "initial_centroids = kMeans_init_centroids(X, K)\n",
    "centroids, idx, cost_history = run_kMeans(X, initial_centroids, max_iters)"
   ]
  },
  {
   "cell_type": "code",
   "execution_count": null,
   "id": "0a3cd509-53e3-408a-b9a2-1a59f585ee09",
   "metadata": {},
   "outputs": [],
   "source": [
    "plt.plot(cost_history)"
   ]
  },
  {
   "cell_type": "code",
   "execution_count": null,
   "id": "47e4cd96-73b9-4cab-a54b-086d3378e0e8",
   "metadata": {},
   "outputs": [],
   "source": [
    "idx.sum()"
   ]
  },
  {
   "cell_type": "code",
   "execution_count": null,
   "id": "afc8745c-e91f-4cd3-bc7c-9fd322ebd03e",
   "metadata": {},
   "outputs": [],
   "source": [
    "cancer.target.sum()"
   ]
  },
  {
   "cell_type": "code",
   "execution_count": null,
   "id": "9b4d8db6-cc9f-48c0-b1c0-ea10b40b1619",
   "metadata": {},
   "outputs": [],
   "source": [
    "fx = idx"
   ]
  },
  {
   "cell_type": "code",
   "execution_count": null,
   "id": "dcee5b88-5dd4-4e6d-97ea-7e586dc2153f",
   "metadata": {},
   "outputs": [],
   "source": [
    "print(f\"Accuracy: {np.mean(cancer.target == fx)}\")"
   ]
  },
  {
   "cell_type": "code",
   "execution_count": null,
   "id": "cf6cc8f3-88f5-4b76-80af-4ec068b923f3",
   "metadata": {},
   "outputs": [],
   "source": [
    "# Compute a baseline for accuracy\n",
    "unique, counts = np.unique(cancer.target, return_counts=True)\n",
    "print(dict(zip(unique, counts)))\n",
    "baseline_accuracy = counts.max() / counts.sum()\n",
    "print(\"Majority baseline:\", baseline_accuracy)"
   ]
  },
  {
   "cell_type": "code",
   "execution_count": null,
   "id": "6d5ac0e5-7c49-46a8-8719-e87a5089b63b",
   "metadata": {},
   "outputs": [],
   "source": [
    "cm = confusion_matrix(cancer.target, fx)\n",
    "print(f'TN: {cm[0, 0]}, FP: {cm[0, 1]},')\n",
    "print(f'FN: {cm[1, 0]}, TP: {cm[1, 1]}')"
   ]
  },
  {
   "cell_type": "code",
   "execution_count": null,
   "id": "04d18ce0-dd53-4b2a-b8ae-0264c4988000",
   "metadata": {},
   "outputs": [],
   "source": [
    "tn, fp, fn, tp = cm.ravel()\n",
    "true_positive_rate = tp / (tp + fn)\n",
    "precision = tp / (tp + fp)\n",
    "true_negative_rate = tn / (tn + fp)"
   ]
  },
  {
   "cell_type": "code",
   "execution_count": null,
   "id": "6f52791d-ac9d-4ac3-8d62-924e9e25a550",
   "metadata": {},
   "outputs": [],
   "source": [
    "print(f\"True Positive Rate: {true_positive_rate: 0.3f}\")\n",
    "print(f\"Precision: {precision: 0.3f}\")\n",
    "print(f\"True Negative Rate: {true_negative_rate: 0.3f}\")"
   ]
  },
  {
   "cell_type": "code",
   "execution_count": null,
   "id": "949ceb12-fa67-4311-98e2-afe782befe54",
   "metadata": {},
   "outputs": [],
   "source": []
  }
 ],
 "metadata": {
  "kernelspec": {
   "display_name": "Python 3 (ipykernel)",
   "language": "python",
   "name": "python3"
  },
  "language_info": {
   "codemirror_mode": {
    "name": "ipython",
    "version": 3
   },
   "file_extension": ".py",
   "mimetype": "text/x-python",
   "name": "python",
   "nbconvert_exporter": "python",
   "pygments_lexer": "ipython3",
   "version": "3.12.10"
  }
 },
 "nbformat": 4,
 "nbformat_minor": 5
}
