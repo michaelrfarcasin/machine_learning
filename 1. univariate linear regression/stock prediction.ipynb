{
 "cells": [
  {
   "cell_type": "code",
   "execution_count": null,
   "id": "56105f8c-4796-4dbe-bedc-2587e9e8a2c7",
   "metadata": {},
   "outputs": [],
   "source": [
    "import numpy as np\n",
    "import matplotlib.pyplot as plt\n",
    "import math"
   ]
  },
  {
   "cell_type": "code",
   "execution_count": null,
   "id": "859d938f-4b05-45f4-8ebc-86ae06c23ca1",
   "metadata": {},
   "outputs": [],
   "source": [
    "def read_csv_to_array(filename):\n",
    "    data = np.genfromtxt(filename, delimiter=',', dtype=float)\n",
    "    return data"
   ]
  },
  {
   "cell_type": "code",
   "execution_count": null,
   "id": "55631036-4aa9-4b26-8db8-98d5bb67d8c8",
   "metadata": {},
   "outputs": [],
   "source": [
    "def compute_gradient(x, y, w, b):\n",
    "    m = x.shape[0]\n",
    "    dj_dw = 0\n",
    "    dj_db = 0\n",
    "    for i in range(m):\n",
    "        f_wb = w * x[i] + b\n",
    "        dj_dw += (f_wb - y[i]) * x[i]\n",
    "        dj_db += f_wb - y[i]\n",
    "    dj_dw /= m\n",
    "    dj_db /= m\n",
    "    return dj_dw, dj_db"
   ]
  },
  {
   "cell_type": "code",
   "execution_count": null,
   "id": "4fe2d6e4-b0a1-46c9-842d-26854867fbbf",
   "metadata": {},
   "outputs": [],
   "source": [
    "def compute_cost(predicted, actual):\n",
    "    # mean squared error\n",
    "    cost = 0\n",
    "    m = actual.shape[0]\n",
    "    for i in range(m):\n",
    "        error_i = actual[i] - predicted[i]\n",
    "        cost += error_i**2\n",
    "    cost /= 2 * m;\n",
    "    return cost"
   ]
  },
  {
   "cell_type": "code",
   "execution_count": null,
   "id": "cd544d62-d0b2-4b96-9d53-30fcab96f685",
   "metadata": {},
   "outputs": [],
   "source": [
    "def gradient_descent(x, y, w_in=0, b_in=0, alpha=0.01, num_iterations=10000):\n",
    "    cost_history = []\n",
    "    w = w_in\n",
    "    b = b_in\n",
    "    for i in range(num_iterations):\n",
    "        dj_dw, dj_db = compute_gradient(x, y, w, b)\n",
    "        b = b - alpha * dj_db\n",
    "        w = w - alpha * dj_dw\n",
    "        # save cost at each iteration\n",
    "        if i < 100000: # prevent resource exhaustion\n",
    "            predicted = w * x + b\n",
    "            cost_history.append(compute_cost(predicted, y))\n",
    "        # print cost at 10 intervals, or each iteration if < 10\n",
    "        if i % math.ceil(num_iterations / 10) == 0:\n",
    "            print(f\"Iteration {i:4}: Cost {cost_history[-1]:.2e}    \",\n",
    "                  f\"dj_dw: {dj_dw:.3e}, dj_db: {dj_db:.3e}    \",\n",
    "                  f\"w: {w:.3e}, b: {b:.5e}\")\n",
    "    return w, b, cost_history"
   ]
  },
  {
   "cell_type": "code",
   "execution_count": null,
   "id": "5f54e0ae-3a03-4278-b618-e51d0926952b",
   "metadata": {},
   "outputs": [],
   "source": [
    "# stock data from https://www.marketwatch.com/\n",
    "x_train = read_csv_to_array('x_train.csv')\n",
    "y_train = read_csv_to_array('y_train.csv')"
   ]
  },
  {
   "cell_type": "code",
   "execution_count": null,
   "id": "d44e92c8-63d0-4367-a357-ab90ea00b167",
   "metadata": {},
   "outputs": [],
   "source": [
    "w, b, J_history = gradient_descent(x_train, y_train, 1, 200, 0.0001)"
   ]
  },
  {
   "cell_type": "code",
   "execution_count": null,
   "id": "a32bacc6-7c73-46d6-a2d7-52a3a877df72",
   "metadata": {},
   "outputs": [],
   "source": [
    "def saveModel(w, b):\n",
    "    np.savetxt('model.csv', [w, b])"
   ]
  },
  {
   "cell_type": "code",
   "execution_count": null,
   "id": "020673ea-44dd-43bf-9965-da54f73dc60d",
   "metadata": {},
   "outputs": [],
   "source": [
    "saveModel(w, b)"
   ]
  },
  {
   "cell_type": "code",
   "execution_count": null,
   "id": "18ed8abd-3d0d-417e-99a4-f1bd23bc05d4",
   "metadata": {},
   "outputs": [],
   "source": [
    "print(f'f_wb(x) = {w:.3f}x + {b:.3f}')\n",
    "fx = w*x_train + b"
   ]
  },
  {
   "cell_type": "code",
   "execution_count": null,
   "id": "38c938f0-c539-4ec2-a27a-287f59dd2581",
   "metadata": {},
   "outputs": [],
   "source": [
    "plt.scatter(x_train, y_train)\n",
    "plt.plot(fx, color='r')\n",
    "plt.show()"
   ]
  },
  {
   "cell_type": "code",
   "execution_count": null,
   "id": "eff870f0-8905-484d-a89e-a36d1a0d74a0",
   "metadata": {},
   "outputs": [],
   "source": [
    "x_future = read_csv_to_array('x_predict.csv')\n",
    "y_future = read_csv_to_array('y_predict.csv')"
   ]
  },
  {
   "cell_type": "code",
   "execution_count": null,
   "id": "48e99ba9-2324-48ce-abbc-d91ae501ccb6",
   "metadata": {},
   "outputs": [],
   "source": [
    "predicted_future = w*x_future + b"
   ]
  },
  {
   "cell_type": "code",
   "execution_count": null,
   "id": "2379771e-5735-4eed-8df9-9c16d225eac2",
   "metadata": {},
   "outputs": [],
   "source": [
    "for i in range(y_future.shape[0]):\n",
    "    print(f\"{int(x_future[i])}: |{predicted_future[i]:.2f} - {y_future[i]}| = {abs(predicted_future[i] - y_future[i]):.2f}\")\n",
    "cost_future = compute_cost(predicted_future, y_future)\n",
    "print(f\"Cost of future predictions: {cost_future:.2f}\")"
   ]
  },
  {
   "cell_type": "code",
   "execution_count": null,
   "id": "affe7a7a-7e64-46fa-b3e5-8fcddd05e670",
   "metadata": {},
   "outputs": [],
   "source": [
    "plt.scatter(x_train, y_train)\n",
    "plt.plot(fx, color='r')\n",
    "plt.scatter(x_future, y_future)\n",
    "plt.plot(x_future, predicted_future, color='r')\n",
    "plt.show()"
   ]
  }
 ],
 "metadata": {
  "kernelspec": {
   "display_name": "Python 3 (ipykernel)",
   "language": "python",
   "name": "python3"
  },
  "language_info": {
   "codemirror_mode": {
    "name": "ipython",
    "version": 3
   },
   "file_extension": ".py",
   "mimetype": "text/x-python",
   "name": "python",
   "nbconvert_exporter": "python",
   "pygments_lexer": "ipython3",
   "version": "3.14.0"
  }
 },
 "nbformat": 4,
 "nbformat_minor": 5
}
